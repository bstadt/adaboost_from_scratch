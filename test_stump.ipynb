{
 "cells": [
  {
   "cell_type": "code",
   "execution_count": 1,
   "metadata": {},
   "outputs": [],
   "source": [
    "import numpy as np\n",
    "from sklearn import datasets\n",
    "\n",
    "from adaboost.stump import Stump"
   ]
  },
  {
   "cell_type": "code",
   "execution_count": 2,
   "metadata": {},
   "outputs": [],
   "source": [
    "def columnize(x):\n",
    "    return np.array(x).reshape((-1, 1))"
   ]
  },
  {
   "cell_type": "markdown",
   "metadata": {},
   "source": [
    "# Load Data\n",
    "In order to test decision stumps, we will use classes 0 and 1 of the iris dataset"
   ]
  },
  {
   "cell_type": "code",
   "execution_count": 7,
   "metadata": {},
   "outputs": [],
   "source": [
    "iris = datasets.load_iris()\n",
    "X = iris.data\n",
    "Y = iris.target\n",
    "\n",
    "X = np.stack([X[i]\\\n",
    "              for i, y in enumerate(Y)\\\n",
    "              if y in [2, 1]])\n",
    "\n",
    "Y = columnize([y\\\n",
    "               for y in Y\\\n",
    "               if y in [2, 1]])"
   ]
  },
  {
   "cell_type": "markdown",
   "metadata": {},
   "source": [
    "# Define Test"
   ]
  },
  {
   "cell_type": "code",
   "execution_count": 17,
   "metadata": {},
   "outputs": [],
   "source": [
    "def stump_test(stump):\n",
    "    for i in range(10):\n",
    "        \n",
    "        stump.fit(X, Y)\n",
    "        Y_hat = stump.predict(X)\n",
    "        accuracy = np.sum(Y_hat == Y)/Y_hat.shape[0]\n",
    "        \n",
    "        if accuracy >= .5:\n",
    "            success_message = 'success!'\n",
    "        else:\n",
    "            success_message = 'failure!'\n",
    "            \n",
    "        print('\\tAccuracy: ', '{}%2'.format(accuracy), '\\t', success_message)"
   ]
  },
  {
   "cell_type": "markdown",
   "metadata": {},
   "source": [
    "# Test All Stump Types"
   ]
  },
  {
   "cell_type": "code",
   "execution_count": 18,
   "metadata": {},
   "outputs": [],
   "source": [
    "stump = Stump()\n",
    "dimselect_methods = stump._dimselect_methods\n",
    "splitselect_methods = stump._splitselect_methods"
   ]
  },
  {
   "cell_type": "code",
   "execution_count": 19,
   "metadata": {},
   "outputs": [
    {
     "name": "stdout",
     "output_type": "stream",
     "text": [
      "dimselect= random \n",
      "splitselect= all\n",
      "------------------------------------------------------------------\n",
      "\tAccuracy:  0.51%2 \t success!\n",
      "\tAccuracy:  0.5%2 \t success!\n",
      "\tAccuracy:  0.5%2 \t success!\n",
      "\tAccuracy:  0.57%2 \t success!\n",
      "\tAccuracy:  0.5%2 \t success!\n",
      "\tAccuracy:  0.51%2 \t success!\n",
      "\tAccuracy:  0.5%2 \t success!\n",
      "\tAccuracy:  0.51%2 \t success!\n",
      "\tAccuracy:  0.5%2 \t success!\n",
      "\tAccuracy:  0.5%2 \t success!\n",
      "\n",
      "\n",
      "\n"
     ]
    }
   ],
   "source": [
    "for dimselect_method in dimselect_methods:\n",
    "    for splitselect_method in splitselect_methods:\n",
    "        print('dimselect=', dimselect_method, '\\nsplitselect=', splitselect_method)\n",
    "        print('------------------------------------------------------------------')\n",
    "        stump = Stump(dimselect_method, splitselect_method)\n",
    "        stump_test(stump)\n",
    "    print('\\n\\n')"
   ]
  },
  {
   "cell_type": "code",
   "execution_count": null,
   "metadata": {},
   "outputs": [],
   "source": []
  },
  {
   "cell_type": "code",
   "execution_count": null,
   "metadata": {},
   "outputs": [],
   "source": []
  },
  {
   "cell_type": "code",
   "execution_count": null,
   "metadata": {},
   "outputs": [],
   "source": []
  }
 ],
 "metadata": {
  "kernelspec": {
   "display_name": "Python 3",
   "language": "python",
   "name": "python3"
  },
  "language_info": {
   "codemirror_mode": {
    "name": "ipython",
    "version": 3
   },
   "file_extension": ".py",
   "mimetype": "text/x-python",
   "name": "python",
   "nbconvert_exporter": "python",
   "pygments_lexer": "ipython3",
   "version": "3.5.2"
  }
 },
 "nbformat": 4,
 "nbformat_minor": 2
}

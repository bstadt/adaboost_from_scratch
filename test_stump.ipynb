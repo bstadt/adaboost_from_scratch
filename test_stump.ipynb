{
 "cells": [
  {
   "cell_type": "code",
   "execution_count": 1,
   "metadata": {},
   "outputs": [],
   "source": [
    "import numpy as np\n",
    "from sklearn import datasets\n",
    "\n",
    "from adaboost.stump import Stump"
   ]
  },
  {
   "cell_type": "code",
   "execution_count": 2,
   "metadata": {},
   "outputs": [],
   "source": [
    "def columnize(x):\n",
    "    return np.array(x).reshape((-1, 1))"
   ]
  },
  {
   "cell_type": "markdown",
   "metadata": {},
   "source": [
    "# Load Data\n",
    "In order to test decision stumps, we will use classes 1 and 2 of the iris dataset"
   ]
  },
  {
   "cell_type": "code",
   "execution_count": 3,
   "metadata": {},
   "outputs": [],
   "source": [
    "iris = datasets.load_iris()\n",
    "X = iris.data\n",
    "Y = iris.target\n",
    "\n",
    "X = np.stack([X[i]\\\n",
    "              for i, y in enumerate(Y)\\\n",
    "              if y in [1, 2]])\n",
    "\n",
    "Y = columnize([y\\\n",
    "               for y in Y\\\n",
    "               if y in [1, 2]])"
   ]
  },
  {
   "cell_type": "markdown",
   "metadata": {},
   "source": [
    "# Define Test"
   ]
  },
  {
   "cell_type": "code",
   "execution_count": 4,
   "metadata": {},
   "outputs": [],
   "source": [
    "def stump_test(stump):\n",
    "    for i in range(10):\n",
    "        weights = [np.random.uniform() for _ in range(X.shape[0])]\n",
    "        weights /= np.sum(weights)\n",
    "        weights = columnize(weights)\n",
    "\n",
    "        stump.fit(X, Y, weights)\n",
    "        Y_hat = stump.predict(X)\n",
    "\n",
    "        weighted_accuracy = np.sum(weights[np.where(Y_hat == Y)])\n",
    "\n",
    "\n",
    "        print('\\tWeighted Accuracy: ', '{:2f}'.format(weighted_accuracy))"
   ]
  },
  {
   "cell_type": "markdown",
   "metadata": {},
   "source": [
    "# Test All Stump Types"
   ]
  },
  {
   "cell_type": "code",
   "execution_count": 5,
   "metadata": {},
   "outputs": [],
   "source": [
    "stump = Stump()\n",
    "dimselect_methods = stump._dimselect_methods\n",
    "splitselect_methods = stump._splitselect_methods"
   ]
  },
  {
   "cell_type": "code",
   "execution_count": 6,
   "metadata": {},
   "outputs": [
    {
     "name": "stdout",
     "output_type": "stream",
     "text": [
      "dimselect= all \n",
      "splitselect= all\n",
      "------------------------------------------------------------------\n",
      "\tWeighted Accuracy:  0.936719\n",
      "\tWeighted Accuracy:  0.953933\n",
      "\tWeighted Accuracy:  0.961162\n",
      "\tWeighted Accuracy:  0.948740\n",
      "\tWeighted Accuracy:  0.952116\n",
      "\tWeighted Accuracy:  0.930827\n",
      "\tWeighted Accuracy:  0.931727\n",
      "\tWeighted Accuracy:  0.963442\n",
      "\tWeighted Accuracy:  0.959895\n",
      "\tWeighted Accuracy:  0.944458\n",
      "\n",
      "\n",
      "\n"
     ]
    }
   ],
   "source": [
    "for dimselect_method in dimselect_methods:\n",
    "    for splitselect_method in splitselect_methods:\n",
    "        print('dimselect=', dimselect_method, '\\nsplitselect=', splitselect_method)\n",
    "        print('------------------------------------------------------------------')\n",
    "        stump = Stump(dimselect_method, splitselect_method)\n",
    "        stump_test(stump)\n",
    "    print('\\n\\n')"
   ]
  },
  {
   "cell_type": "code",
   "execution_count": null,
   "metadata": {},
   "outputs": [],
   "source": []
  }
 ],
 "metadata": {
  "kernelspec": {
   "display_name": "Python 3",
   "language": "python",
   "name": "python3"
  },
  "language_info": {
   "codemirror_mode": {
    "name": "ipython",
    "version": 3
   },
   "file_extension": ".py",
   "mimetype": "text/x-python",
   "name": "python",
   "nbconvert_exporter": "python",
   "pygments_lexer": "ipython3",
   "version": "3.5.2"
  }
 },
 "nbformat": 4,
 "nbformat_minor": 2
}
